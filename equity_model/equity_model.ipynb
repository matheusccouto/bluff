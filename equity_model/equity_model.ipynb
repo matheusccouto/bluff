{
 "cells": [
  {
   "cell_type": "markdown",
   "metadata": {},
   "source": [
    "# Equity Model\n",
    "\n",
    "The goal of this notebook is to develop a model for fast equity inference for a texas hold'em preflop scenario."
   ]
  },
  {
   "cell_type": "code",
   "execution_count": 1,
   "metadata": {},
   "outputs": [],
   "source": [
    "import itertools\n",
    "import joblib\n",
    "import sys\n",
    "\n",
    "import matplotlib.pyplot as plt\n",
    "import numpy as np\n",
    "import pandas as pd\n",
    "from sklearn import ensemble\n",
    "from sklearn import pipeline\n",
    "\n",
    "sys.path.insert(1, '..')\n",
    "from bluff.holdem import equity"
   ]
  },
  {
   "cell_type": "markdown",
   "metadata": {},
   "source": [
    "# Generate Data\n",
    "\n",
    "Data will be generated using the *Monte Carlo* procedure."
   ]
  },
  {
   "cell_type": "code",
   "execution_count": 2,
   "metadata": {},
   "outputs": [],
   "source": [
    "range_ = np.arange(0.0, 100, 1)\n",
    "n_times = 10000"
   ]
  },
  {
   "cell_type": "markdown",
   "metadata": {},
   "source": [
    "## Training Data"
   ]
  },
  {
   "cell_type": "code",
   "execution_count": 3,
   "metadata": {},
   "outputs": [
    {
     "name": "stdout",
     "output_type": "stream",
     "text": [
      "Wall time: 5h 54min 30s\n"
     ]
    },
    {
     "data": {
      "text/html": [
       "<div>\n",
       "<style scoped>\n",
       "    .dataframe tbody tr th:only-of-type {\n",
       "        vertical-align: middle;\n",
       "    }\n",
       "\n",
       "    .dataframe tbody tr th {\n",
       "        vertical-align: top;\n",
       "    }\n",
       "\n",
       "    .dataframe thead th {\n",
       "        text-align: right;\n",
       "    }\n",
       "</style>\n",
       "<table border=\"1\" class=\"dataframe\">\n",
       "  <thead>\n",
       "    <tr style=\"text-align: right;\">\n",
       "      <th></th>\n",
       "      <th>Equity</th>\n",
       "      <th>Hero</th>\n",
       "      <th>Villain</th>\n",
       "    </tr>\n",
       "  </thead>\n",
       "  <tbody>\n",
       "    <tr>\n",
       "      <th>0</th>\n",
       "      <td>0.500025</td>\n",
       "      <td>0.0</td>\n",
       "      <td>0.0</td>\n",
       "    </tr>\n",
       "    <tr>\n",
       "      <th>1</th>\n",
       "      <td>0.611096</td>\n",
       "      <td>0.0</td>\n",
       "      <td>1.0</td>\n",
       "    </tr>\n",
       "    <tr>\n",
       "      <th>2</th>\n",
       "      <td>0.683710</td>\n",
       "      <td>0.0</td>\n",
       "      <td>2.0</td>\n",
       "    </tr>\n",
       "    <tr>\n",
       "      <th>3</th>\n",
       "      <td>0.747952</td>\n",
       "      <td>0.0</td>\n",
       "      <td>3.0</td>\n",
       "    </tr>\n",
       "    <tr>\n",
       "      <th>4</th>\n",
       "      <td>0.772380</td>\n",
       "      <td>0.0</td>\n",
       "      <td>4.0</td>\n",
       "    </tr>\n",
       "  </tbody>\n",
       "</table>\n",
       "</div>"
      ],
      "text/plain": [
       "     Equity  Hero  Villain\n",
       "0  0.500025   0.0      0.0\n",
       "1  0.611096   0.0      1.0\n",
       "2  0.683710   0.0      2.0\n",
       "3  0.747952   0.0      3.0\n",
       "4  0.772380   0.0      4.0"
      ]
     },
     "execution_count": 3,
     "metadata": {},
     "output_type": "execute_result"
    }
   ],
   "source": [
    "%%time\n",
    "\n",
    "prod = itertools.product(range_, range_)\n",
    "\n",
    "train = pd.DataFrame()\n",
    "\n",
    "for h, v in prod:\n",
    "    \n",
    "    # Get hand from ranking.\n",
    "    hero_hand = equity.percentage_descr(h)\n",
    "\n",
    "    # Calculate equity agains villain range.\n",
    "    eq = equity.eval_ranges(hero_hand, [v], times=n_times)\n",
    "    \n",
    "    train = train.append({\"Hero\": h, \"Villain\": v, \"Equity\": eq[0]}, ignore_index=True)\n",
    "    \n",
    "train.to_csv(r\"linear_model_train.csv\")\n",
    "train.head()"
   ]
  },
  {
   "cell_type": "code",
   "execution_count": 4,
   "metadata": {},
   "outputs": [
    {
     "name": "stdout",
     "output_type": "stream",
     "text": [
      "Wall time: 1h 24min 42s\n"
     ]
    },
    {
     "data": {
      "text/html": [
       "<div>\n",
       "<style scoped>\n",
       "    .dataframe tbody tr th:only-of-type {\n",
       "        vertical-align: middle;\n",
       "    }\n",
       "\n",
       "    .dataframe tbody tr th {\n",
       "        vertical-align: top;\n",
       "    }\n",
       "\n",
       "    .dataframe thead th {\n",
       "        text-align: right;\n",
       "    }\n",
       "</style>\n",
       "<table border=\"1\" class=\"dataframe\">\n",
       "  <thead>\n",
       "    <tr style=\"text-align: right;\">\n",
       "      <th></th>\n",
       "      <th>Equity</th>\n",
       "      <th>Hero</th>\n",
       "      <th>Villain</th>\n",
       "    </tr>\n",
       "  </thead>\n",
       "  <tbody>\n",
       "    <tr>\n",
       "      <th>0</th>\n",
       "      <td>0.572304</td>\n",
       "      <td>28.720835</td>\n",
       "      <td>59.610942</td>\n",
       "    </tr>\n",
       "    <tr>\n",
       "      <th>1</th>\n",
       "      <td>0.712708</td>\n",
       "      <td>9.770339</td>\n",
       "      <td>87.098527</td>\n",
       "    </tr>\n",
       "    <tr>\n",
       "      <th>2</th>\n",
       "      <td>0.559839</td>\n",
       "      <td>58.522753</td>\n",
       "      <td>85.593735</td>\n",
       "    </tr>\n",
       "    <tr>\n",
       "      <th>3</th>\n",
       "      <td>0.709760</td>\n",
       "      <td>3.879980</td>\n",
       "      <td>30.046708</td>\n",
       "    </tr>\n",
       "    <tr>\n",
       "      <th>4</th>\n",
       "      <td>0.826676</td>\n",
       "      <td>0.826672</td>\n",
       "      <td>94.416744</td>\n",
       "    </tr>\n",
       "  </tbody>\n",
       "</table>\n",
       "</div>"
      ],
      "text/plain": [
       "     Equity       Hero    Villain\n",
       "0  0.572304  28.720835  59.610942\n",
       "1  0.712708   9.770339  87.098527\n",
       "2  0.559839  58.522753  85.593735\n",
       "3  0.709760   3.879980  30.046708\n",
       "4  0.826676   0.826672  94.416744"
      ]
     },
     "execution_count": 4,
     "metadata": {},
     "output_type": "execute_result"
    }
   ],
   "source": [
    "%%time\n",
    "\n",
    "test_size = 0.25\n",
    "\n",
    "test = pd.DataFrame()\n",
    "for _ in range(int(train.shape[0] * test_size)):\n",
    "    \n",
    "    # Choose randomly hero and villain ranges.\n",
    "    h = np.random.random() * 100\n",
    "    hero_hand = equity.percentage_descr(h)\n",
    "    v = np.random.random() * 100\n",
    "    \n",
    "    # Calculate equity agains villain range.\n",
    "    eq = equity.eval_ranges(hero_hand, [v], times=n_times)\n",
    "    \n",
    "    test = test.append({\"Hero\": h, \"Villain\": v, \"Equity\": eq[0]}, ignore_index=True)\n",
    "    \n",
    "test.to_csv(r\"linear_model_test.csv\")\n",
    "test.head()"
   ]
  },
  {
   "cell_type": "markdown",
   "metadata": {},
   "source": [
    "## Testing Data"
   ]
  },
  {
   "cell_type": "code",
   "execution_count": 5,
   "metadata": {},
   "outputs": [],
   "source": [
    "x_train = train[[\"Hero\", \"Villain\"]]\n",
    "y_train = train[[\"Equity\"]]\n",
    "\n",
    "x_test = test[[\"Hero\", \"Villain\"]]\n",
    "y_test = test[[\"Equity\"]]"
   ]
  },
  {
   "cell_type": "markdown",
   "metadata": {},
   "source": [
    "# Fit Model"
   ]
  },
  {
   "cell_type": "code",
   "execution_count": 6,
   "metadata": {},
   "outputs": [
    {
     "data": {
      "text/plain": [
       "0.9619586153439249"
      ]
     },
     "execution_count": 6,
     "metadata": {},
     "output_type": "execute_result"
    }
   ],
   "source": [
    "pipe = pipeline.Pipeline(\n",
    "    [\n",
    "        (\"random forest\", ensemble.RandomForestRegressor(\n",
    "            n_estimators=100, \n",
    "            max_depth=8,\n",
    "        )),\n",
    "    ]\n",
    ")\n",
    "\n",
    "pipe.fit(x_train, y_train.values.ravel())\n",
    "pipe.score(x_test, y_test)"
   ]
  },
  {
   "cell_type": "markdown",
   "metadata": {},
   "source": [
    "# Visualize Model Predictions"
   ]
  },
  {
   "cell_type": "code",
   "execution_count": 19,
   "metadata": {},
   "outputs": [
    {
     "data": {
      "text/plain": [
       "<matplotlib.legend.Legend at 0x1f69799cf28>"
      ]
     },
     "execution_count": 19,
     "metadata": {},
     "output_type": "execute_result"
    },
    {
     "data": {
      "image/png": "[encoded data removed]",
      "text/plain": [
       "<Figure size 432x288 with 1 Axes>"
      ]
     },
     "metadata": {
      "needs_background": "light"
     },
     "output_type": "display_data"
    }
   ],
   "source": [
    "train[\"Predicted Equity\"] = pipe.predict(x_train)\n",
    "\n",
    "temp = train[train[\"Hero\"] == np.random.choice(train[\"Hero\"])]\n",
    "\n",
    "plt.plot(temp[\"Equity\"], label=\"Monte Carlo\")\n",
    "plt.plot(temp[\"Predicted Equity\"], label=\"Model\")\n",
    "plt.legend()"
   ]
  },
  {
   "cell_type": "markdown",
   "metadata": {},
   "source": [
    "# Save Model"
   ]
  },
  {
   "cell_type": "code",
   "execution_count": 8,
   "metadata": {},
   "outputs": [
    {
     "data": {
      "text/plain": [
       "['equity_model.pkl']"
      ]
     },
     "execution_count": 8,
     "metadata": {},
     "output_type": "execute_result"
    }
   ],
   "source": [
    "joblib.dump(pipe, 'equity_model.pkl') "
   ]
  }
 ],
 "metadata": {
  "kernelspec": {
   "display_name": "Python 3",
   "language": "python",
   "name": "python3"
  },
  "language_info": {
   "codemirror_mode": {
    "name": "ipython",
    "version": 3
   },
   "file_extension": ".py",
   "mimetype": "text/x-python",
   "name": "python",
   "nbconvert_exporter": "python",
   "pygments_lexer": "ipython3",
   "version": "3.7.1"
  }
 },
 "nbformat": 4,
 "nbformat_minor": 4
}
